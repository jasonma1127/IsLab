{
 "cells": [
  {
   "cell_type": "code",
   "execution_count": 57,
   "metadata": {},
   "outputs": [],
   "source": [
    "import pickle\n",
    "import os\n",
    "\n",
    "def loadPickle(file_path: str) -> pickle:\n",
    "    with open(file_path, \"rb\") as f:\n",
    "        pk = pickle.load(f)\n",
    "    return pk"
   ]
  },
  {
   "cell_type": "code",
   "execution_count": 153,
   "metadata": {},
   "outputs": [
    {
     "name": "stdout",
     "output_type": "stream",
     "text": [
      "1024\n",
      "00b8f55d5240c8bc5f91eab1a90ed60ac6bd4150f83b203e856ea8320c75640f.pickle\n"
     ]
    }
   ],
   "source": [
    "min_len = 10000000\n",
    "filename = \"\"\n",
    "for sample in os.listdir(\"../NICT/DataSet/Toyset/OpcodeSequence_retdec/Level_10/malware/Lv_100/\"):\n",
    "    ops = loadPickle(\"../NICT/DataSet/Toyset/OpcodeSequence_retdec/Level_10/malware/Lv_100/\" + sample)\n",
    "    if len(ops) > 1000 and len(ops) < min_len:\n",
    "        min_len = len(ops)\n",
    "        filename = sample\n",
    "\n",
    "print(min_len)\n",
    "print(filename)"
   ]
  },
  {
   "cell_type": "code",
   "execution_count": 154,
   "metadata": {},
   "outputs": [
    {
     "name": "stdout",
     "output_type": "stream",
     "text": [
      "1024\n",
      "2\n",
      "0.998046875\n"
     ]
    }
   ],
   "source": [
    "sampleName = \"00b8f55d5240c8bc5f91eab1a90ed60ac6bd4150f83b203e856ea8320c75640f.pickle\"\n",
    "ori_sample = \"../NICT/DataSet/Toyset/OpcodeSequence_retdec/toy_malware_unpacked/\" + sampleName\n",
    "packed_sample = \"../NICT/DataSet/Toyset/OpcodeSequence_retdec/Level_10/malware/Lv_100/\" + sampleName\n",
    "\n",
    "packed_OPS = loadPickle(packed_sample)\n",
    "ori_OPS = loadPickle(ori_sample)\n",
    "\n",
    "label = []\n",
    "# GOP 0, ROP 1\n",
    "for op in packed_OPS:\n",
    "    if op in set(ori_OPS):\n",
    "        label.append(0)\n",
    "    else:\n",
    "        label.append(1)\n",
    "print(len(label))\n",
    "print(sum(label))\n",
    "print((len(label)-sum(label))/len(label))"
   ]
  },
  {
   "cell_type": "code",
   "execution_count": 155,
   "metadata": {},
   "outputs": [
    {
     "data": {
      "image/png": "[encoded data removed]",
      "text/plain": [
       "<Figure size 500x100 with 1 Axes>"
      ]
     },
     "metadata": {},
     "output_type": "display_data"
    }
   ],
   "source": [
    "import matplotlib\n",
    "import matplotlib.pyplot as plt\n",
    "import numpy as np\n",
    "from  matplotlib.colors import LinearSegmentedColormap\n",
    "%matplotlib inline\n",
    "plt.rcParams[\"figure.figsize\"] = 5,1\n",
    "\n",
    "x = np.linspace(0,len(label))\n",
    "y = np.array(label)\n",
    "\n",
    "fig, ax = plt.subplots(nrows=1, sharex=True)\n",
    "\n",
    "extent = [x[0]-(x[1]-x[0])/2., x[-1]+(x[1]-x[0])/2.,0,1]\n",
    "cmap=LinearSegmentedColormap.from_list('gr',[\"g\", \"r\"], N=256) \n",
    "ax.imshow(y[np.newaxis,:], cmap=cmap, aspect=\"auto\", extent=extent)\n",
    "ax.set_yticks([])\n",
    "\n",
    "plt.tight_layout()\n",
    "plt.axis(\"off\")\n",
    "plt.savefig(\"./GOPvisual_fig/malware_100\",bbox_inches=\"tight\", pad_inches = -0.2)\n",
    "plt.show()"
   ]
  },
  {
   "cell_type": "code",
   "execution_count": null,
   "metadata": {},
   "outputs": [],
   "source": []
  },
  {
   "cell_type": "code",
   "execution_count": null,
   "metadata": {},
   "outputs": [],
   "source": []
  }
 ],
 "metadata": {
  "kernelspec": {
   "display_name": "nict",
   "language": "python",
   "name": "python3"
  },
  "language_info": {
   "name": "python",
   "version": "3.8.13"
  },
  "orig_nbformat": 4
 },
 "nbformat": 4,
 "nbformat_minor": 2
}
